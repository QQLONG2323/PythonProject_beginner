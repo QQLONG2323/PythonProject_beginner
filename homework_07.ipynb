{
 "cells": [
  {
   "attachments": {},
   "cell_type": "markdown",
   "metadata": {},
   "source": [
    "HomeWork\n",
    "請設計一個程式，讓使用者輸入數值，只有加總偶數值，不加總正奇數值，如果輸入負數，結束程式。\n",
    "\n",
    "顯示:========================================\n",
    "請輸入第1個數值:456\n",
    "請輸入第2個數值:455\n",
    "請輸入第3個數值:123\n",
    "請輸入第4個數值:-1\n",
    "所有輸入的正偶數的加總是:xxxxxxx\n",
    "============================================="
   ]
  },
  {
   "cell_type": "code",
   "execution_count": 6,
   "metadata": {},
   "outputs": [
    {
     "name": "stdout",
     "output_type": "stream",
     "text": [
      "所有輸入的偶數的加總是:456\n"
     ]
    }
   ],
   "source": [
    "sum = 0\n",
    "num = 0\n",
    "print(\"顯示:========================================\")\n",
    "while(True):\n",
    "    num += 1\n",
    "    input_value = int(input(f\"請輸入第{num}個數值: \"))\n",
    "    if(input_value % 2 == 0):\n",
    "        sum += input_value\n",
    "    elif(input_value < 0):\n",
    "        break\n",
    "    else:\n",
    "        continue\n",
    "print(f\"所有輸入的偶數的加總是:{sum}\\n=============================================\")"
   ]
  }
 ],
 "metadata": {
  "kernelspec": {
   "display_name": "Python 3",
   "language": "python",
   "name": "python3"
  },
  "language_info": {
   "codemirror_mode": {
    "name": "ipython",
    "version": 3
   },
   "file_extension": ".py",
   "mimetype": "text/x-python",
   "name": "python",
   "nbconvert_exporter": "python",
   "pygments_lexer": "ipython3",
   "version": "3.8.6"
  },
  "orig_nbformat": 4,
  "vscode": {
   "interpreter": {
    "hash": "3bb6f0c94772615956c721f3f802df0e415a144b4620243ba7cda6c37443a8de"
   }
  }
 },
 "nbformat": 4,
 "nbformat_minor": 2
}
