{
 "cells": [
  {
   "cell_type": "code",
   "execution_count": 2,
   "metadata": {},
   "outputs": [
    {
     "data": {
      "text/plain": [
       "30"
      ]
     },
     "execution_count": 2,
     "metadata": {},
     "output_type": "execute_result"
    }
   ],
   "source": [
    "m = 20\n",
    "m = m + 10\n",
    "m\n"
   ]
  },
  {
   "cell_type": "code",
   "execution_count": 6,
   "metadata": {},
   "outputs": [
    {
     "data": {
      "text/plain": [
       "30"
      ]
     },
     "execution_count": 6,
     "metadata": {},
     "output_type": "execute_result"
    }
   ],
   "source": [
    "#複合指定運算子\n",
    "m = 20\n",
    "m += 10\n",
    "m"
   ]
  },
  {
   "cell_type": "code",
   "execution_count": 3,
   "metadata": {},
   "outputs": [
    {
     "data": {
      "text/plain": [
       "60"
      ]
     },
     "execution_count": 3,
     "metadata": {},
     "output_type": "execute_result"
    }
   ],
   "source": [
    "#請以(複合指定運算子)設計程式,讓用者輸入三個任意數，程式會顯示3數相加的總和(float)\n",
    "sum = 0\n",
    "n = eval(input(\"請輸入第一個數字: \"))\n",
    "sum += n\n",
    "\n",
    "n = eval(input(\"請輸入第二個數字: \"))\n",
    "sum += n\n",
    "\n",
    "n = eval(input(\"請輸入第三個數字: \"))\n",
    "sum += n\n",
    "\n",
    "sum"
   ]
  },
  {
   "attachments": {},
   "cell_type": "markdown",
   "metadata": {},
   "source": [
    "讓使用者輸入梯形的上底、下底及高，程式會計算梯形的面積(上底加下底乘以高除以2)\n",
    "請輸入梯形的上底(公分):5\n",
    "請輸入梯形的下底(公分):10\n",
    "請輸入梯形的高(公分):2\n",
    "梯形的面積:15平方公分"
   ]
  },
  {
   "cell_type": "code",
   "execution_count": 5,
   "metadata": {},
   "outputs": [
    {
     "name": "stdout",
     "output_type": "stream",
     "text": [
      "梯形的面積: 15.00 平方公分\n"
     ]
    }
   ],
   "source": [
    "t = eval(input(\"請輸入梯形上底(公分): \"))\n",
    "d = eval(input(\"請輸入梯形下底(公分): \"))\n",
    "h = eval(input(\"請輸入梯形的高(公分): \"))\n",
    "a = (t + d) * h / 2\n",
    "print(f\"梯形的面積: {a:.2f} 平方公分\")"
   ]
  },
  {
   "attachments": {},
   "cell_type": "markdown",
   "metadata": {},
   "source": [
    "Homework(circle_s.py)\n",
    "使用者輸入圓柱體的半徑及高，程式會計算圓柱體的體積\n",
    "圓柱體體積的公式為「圓週率乘以半徑平方再乘以高」。\n",
    "請輸入圓柱體的半徑(公分):10\n",
    "請輸入圓柱體的高(公分):5\n",
    "圓柱體的體積:xxxx立方公分"
   ]
  },
  {
   "cell_type": "code",
   "execution_count": 7,
   "metadata": {},
   "outputs": [
    {
     "name": "stdout",
     "output_type": "stream",
     "text": [
      "圓柱體的體積: 1570.80 立方公分\n"
     ]
    }
   ],
   "source": [
    "import math\n",
    "r = eval(input(\"請輸入圓柱體半徑(公分): \"))\n",
    "h = eval(input(\"請輸入圓柱體的高(公分): \"))\n",
    "a = ((r**2) * math.pi) * h\n",
    "print(f\"圓柱體的體積: {a:.2f} 立方公分\")"
   ]
  },
  {
   "cell_type": "code",
   "execution_count": 3,
   "metadata": {},
   "outputs": [
    {
     "data": {
      "text/plain": [
       "0.33324553309906935"
      ]
     },
     "execution_count": 3,
     "metadata": {},
     "output_type": "execute_result"
    }
   ],
   "source": [
    "#高中數學\n",
    "import math\n",
    "math.sqrt(math.sin(25) * math.cos(10))"
   ]
  },
  {
   "cell_type": "code",
   "execution_count": 4,
   "metadata": {},
   "outputs": [
    {
     "data": {
      "text/plain": [
       "30"
      ]
     },
     "execution_count": 4,
     "metadata": {},
     "output_type": "execute_result"
    }
   ],
   "source": [
    "round(math.degrees(math.asin(2.5/5)))"
   ]
  },
  {
   "cell_type": "code",
   "execution_count": 5,
   "metadata": {},
   "outputs": [
    {
     "data": {
      "text/plain": [
       "30"
      ]
     },
     "execution_count": 5,
     "metadata": {},
     "output_type": "execute_result"
    }
   ],
   "source": [
    "round(math.degrees(math.asin(2.5/5)))"
   ]
  },
  {
   "attachments": {},
   "cell_type": "markdown",
   "metadata": {},
   "source": [
    "Homework(degree.py)\n",
    "讓使用者輸入直角三角形的對邊\n",
    "讓使用者輸入直角三角形的斜邊\n",
    "計算角度\n",
    "公式:\n",
    "sin(x) = 對邊 / 斜邊\n",
    "x是radian(弧度)\n",
    "請輸入對邊:2.5\n",
    "請輸入斜邊:5\n",
    "直角三角形的角度為:30degree"
   ]
  },
  {
   "cell_type": "code",
   "execution_count": 27,
   "metadata": {},
   "outputs": [
    {
     "data": {
      "text/plain": [
       "30.000000000000004"
      ]
     },
     "execution_count": 27,
     "metadata": {},
     "output_type": "execute_result"
    }
   ],
   "source": [
    "import math\n",
    "a = eval(input(\"請輸入直角三角形對邊: \"))\n",
    "b = eval(input(\"請輸入直角三角形斜邊: \"))\n",
    "math.degrees(math.asin(a/b))"
   ]
  },
  {
   "cell_type": "code",
   "execution_count": 30,
   "metadata": {},
   "outputs": [
    {
     "data": {
      "text/plain": [
       "0.479425538604203"
      ]
     },
     "execution_count": 30,
     "metadata": {},
     "output_type": "execute_result"
    }
   ],
   "source": [
    "math.sin(0.5)"
   ]
  }
 ],
 "metadata": {
  "kernelspec": {
   "display_name": "Python 3",
   "language": "python",
   "name": "python3"
  },
  "language_info": {
   "codemirror_mode": {
    "name": "ipython",
    "version": 3
   },
   "file_extension": ".py",
   "mimetype": "text/x-python",
   "name": "python",
   "nbconvert_exporter": "python",
   "pygments_lexer": "ipython3",
   "version": "3.8.6"
  },
  "orig_nbformat": 4,
  "vscode": {
   "interpreter": {
    "hash": "3bb6f0c94772615956c721f3f802df0e415a144b4620243ba7cda6c37443a8de"
   }
  }
 },
 "nbformat": 4,
 "nbformat_minor": 2
}
