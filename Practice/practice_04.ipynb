{
 "cells": [
  {
   "attachments": {},
   "cell_type": "markdown",
   "metadata": {},
   "source": [
    "HomeWork:BMI 計算後分析\n",
    "請依據 BMI 值分析他人的身體狀況。\n",
    "\n",
    "BMI值\t < 18.5\t18.5-25\t25-30\t>30\n",
    "身體狀態\t太輕\t正常\t過重\t肥胖\n",
    "\n",
    "#bmi.py\n",
    "請輸入身高,單位為(公分):177\n",
    "請輸入體重,單位為(公斤):80\n",
    "\n",
    "您的BMI是25.53544\n",
    "「您的體重過重」"
   ]
  },
  {
   "cell_type": "code",
   "execution_count": 1,
   "metadata": {},
   "outputs": [
    {
     "name": "stdout",
     "output_type": "stream",
     "text": [
      "您的BMI是25.53545\n",
      "「您的體重過重」\n"
     ]
    }
   ],
   "source": [
    "h = eval(input(\"輸入身高(公分): \"))\n",
    "w = eval(input(\"輸入體重(公斤): \"))\n",
    "bmi = w / (h / 100)**2\n",
    "\n",
    "if(bmi > 30):\n",
    "    a = \"肥胖\"\n",
    "elif(bmi >= 25):\n",
    "    a = \"過重\"\n",
    "elif(bmi >= 18.5):\n",
    "    a = \"正常\"\n",
    "else:\n",
    "    a = \"太輕\"\n",
    "    \n",
    "print(f\"您的BMI是{bmi:.5f}\\n「您的體重{a}」\")\n",
    "\n"
   ]
  }
 ],
 "metadata": {
  "kernelspec": {
   "display_name": "Python 3",
   "language": "python",
   "name": "python3"
  },
  "language_info": {
   "codemirror_mode": {
    "name": "ipython",
    "version": 3
   },
   "file_extension": ".py",
   "mimetype": "text/x-python",
   "name": "python",
   "nbconvert_exporter": "python",
   "pygments_lexer": "ipython3",
   "version": "3.8.6"
  },
  "orig_nbformat": 4,
  "vscode": {
   "interpreter": {
    "hash": "3bb6f0c94772615956c721f3f802df0e415a144b4620243ba7cda6c37443a8de"
   }
  }
 },
 "nbformat": 4,
 "nbformat_minor": 2
}
