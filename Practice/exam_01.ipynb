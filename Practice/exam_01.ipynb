{
 "cells": [
  {
   "cell_type": "code",
   "execution_count": 5,
   "metadata": {},
   "outputs": [
    {
     "data": {
      "text/plain": [
       "15.0"
      ]
     },
     "execution_count": 5,
     "metadata": {},
     "output_type": "execute_result"
    }
   ],
   "source": [
    "# 寫出 1+2+3+4+...+n的function 第一版\n",
    "def a():\n",
    "    n = int(input('輸入數字: '))\n",
    "    ans = (1+n)*n/2\n",
    "    return ans\n",
    "\n",
    "a()"
   ]
  },
  {
   "cell_type": "code",
   "execution_count": 15,
   "metadata": {},
   "outputs": [
    {
     "data": {
      "text/plain": [
       "55"
      ]
     },
     "execution_count": 15,
     "metadata": {},
     "output_type": "execute_result"
    }
   ],
   "source": [
    "# 寫出 1+2+3+4+...+n的function 第二版\n",
    "def b():\n",
    "    aa = 1\n",
    "    sum = 0\n",
    "    n = int(input('輸入數字: '))\n",
    "    while(aa <= n):        \n",
    "        sum += aa\n",
    "        aa += 1\n",
    "    return sum\n",
    "b()"
   ]
  },
  {
   "cell_type": "code",
   "execution_count": 18,
   "metadata": {},
   "outputs": [
    {
     "data": {
      "text/plain": [
       "4"
      ]
     },
     "execution_count": 18,
     "metadata": {},
     "output_type": "execute_result"
    }
   ],
   "source": [
    "# 寫出 1-2+3-4+5-6+7-8+....n 的function\n",
    "def c():    \n",
    "    total = 0\n",
    "    i = 1\n",
    "    sign = 1\n",
    "    n = int(input('輸入數字: '))\n",
    "\n",
    "    while i <= n:\n",
    "        total += sign * i\n",
    "        i += 1\n",
    "        sign *= -1\n",
    "    return total\n",
    "\n",
    "c()"
   ]
  }
 ],
 "metadata": {
  "kernelspec": {
   "display_name": "venv",
   "language": "python",
   "name": "python3"
  },
  "language_info": {
   "codemirror_mode": {
    "name": "ipython",
    "version": 3
   },
   "file_extension": ".py",
   "mimetype": "text/x-python",
   "name": "python",
   "nbconvert_exporter": "python",
   "pygments_lexer": "ipython3",
   "version": "3.8.6"
  },
  "orig_nbformat": 4
 },
 "nbformat": 4,
 "nbformat_minor": 2
}
