{
 "cells": [
  {
   "cell_type": "code",
   "execution_count": 4,
   "metadata": {},
   "outputs": [
    {
     "name": "stdout",
     "output_type": "stream",
     "text": [
      "====================猜數字遊戲====================\n",
      "\n",
      "再小一點\n",
      "您已經猜了1次\n",
      "再小一點\n",
      "您已經猜了2次\n",
      "再小一點\n",
      "您已經猜了3次\n",
      "再小一點\n",
      "您已經猜了4次\n",
      "再小一點\n",
      "您已經猜了5次\n",
      "再小一點\n",
      "您已經猜了6次\n",
      "再小一點\n",
      "您已經猜了7次\n",
      "賓果!猜對了, 答案是7\n",
      "您猜了8次\n",
      "Game Over!\n",
      "====================猜數字遊戲====================\n",
      "\n",
      "再小一點\n",
      "您已經猜了1次\n",
      "再小一點\n",
      "您已經猜了2次\n",
      "再大一點\n",
      "您已經猜了3次\n",
      "再大一點\n",
      "您已經猜了4次\n",
      "再大一點\n",
      "您已經猜了5次\n",
      "再大一點\n",
      "您已經猜了6次\n",
      "再大一點\n",
      "您已經猜了7次\n",
      "再大一點\n",
      "您已經猜了8次\n",
      "賓果!猜對了, 答案是23\n",
      "您猜了9次\n",
      "Game Over!\n",
      "遊戲結束\n"
     ]
    }
   ],
   "source": [
    "import random\n",
    "def playGame():\n",
    "    print(\"====================猜數字遊戲====================\\n\")\n",
    "    min = 1\n",
    "    max = 100\n",
    "    random_num = random.randint(min, max)\n",
    "    used_num = 0\n",
    "\n",
    "    while(True):\n",
    "        keyin_value = input(f\"猜數字範圍{min}~{max},\\n或按\\\"q\\\"立即結束;\\n按其它按鈕繼續遊戲: \")\n",
    "        used_num += 1\n",
    "        if(min <= int(keyin_value) <= max):\n",
    "            if(int(keyin_value) == random_num):\n",
    "                print(f\"賓果!猜對了, 答案是{int(keyin_value)}\\n您猜了{used_num}次\\nGame Over!\")\n",
    "                break\n",
    "            elif(int(keyin_value) > random_num):\n",
    "                print(f\"再小一點\\n您已經猜了{used_num}次\")\n",
    "                max = int(keyin_value) - 1\n",
    "            else:\n",
    "                print(f\"再大一點\\n您已經猜了{used_num}次\")\n",
    "                min = int(keyin_value) + 1\n",
    "        else:\n",
    "            print(\"超出範圍了!\")\n",
    "            continue\n",
    "\n",
    "while(True):\n",
    "    playGame()\n",
    "    input_key = input(\"立即結束遊戲,請按「q」。按其它按鈕繼續遊戲!\")\n",
    "    if input_key == 'q':\n",
    "        break\n",
    "print(\"遊戲結束\")"
   ]
  }
 ],
 "metadata": {
  "kernelspec": {
   "display_name": "Python 3",
   "language": "python",
   "name": "python3"
  },
  "language_info": {
   "codemirror_mode": {
    "name": "ipython",
    "version": 3
   },
   "file_extension": ".py",
   "mimetype": "text/x-python",
   "name": "python",
   "nbconvert_exporter": "python",
   "pygments_lexer": "ipython3",
   "version": "3.8.6"
  },
  "orig_nbformat": 4,
  "vscode": {
   "interpreter": {
    "hash": "3bb6f0c94772615956c721f3f802df0e415a144b4620243ba7cda6c37443a8de"
   }
  }
 },
 "nbformat": 4,
 "nbformat_minor": 2
}
