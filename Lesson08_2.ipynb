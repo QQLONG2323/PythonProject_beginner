{
 "cells": [
  {
   "cell_type": "code",
   "execution_count": 3,
   "metadata": {},
   "outputs": [
    {
     "data": {
      "text/plain": [
       "19.79898987322333"
      ]
     },
     "execution_count": 3,
     "metadata": {},
     "output_type": "execute_result"
    }
   ],
   "source": [
    "import math\n",
    "\n",
    "def hypotenuse(side, otherside):\n",
    "    return math.sqrt(side ** 2 + otherside ** 2)\n",
    "\n",
    "s = eval(input(\"請輸入一邊: \"))\n",
    "os = eval(input(\"請輸入另一邊: \"))\n",
    "\n",
    "hypotenuse(s, os)"
   ]
  },
  {
   "cell_type": "code",
   "execution_count": 4,
   "metadata": {},
   "outputs": [
    {
     "name": "stdout",
     "output_type": "stream",
     "text": [
      "33.029462280354075, 中度肥胖\n"
     ]
    }
   ],
   "source": [
    "def bmi_value(weight, height):\n",
    "    return weight / (height / 100) ** 2\n",
    "\n",
    "def suggestion(bmi):\n",
    "    message = \"\"\n",
    "    if(bmi < 18.5):\n",
    "        message = \"體重過輕\"\n",
    "    elif(bmi < 24):\n",
    "        message = \"正常範圍\"\n",
    "    elif(bmi < 27):\n",
    "        message = \"過重\"\n",
    "    elif(bmi < 30):\n",
    "        message = \"輕度肥胖\"\n",
    "    elif(bmi < 35):\n",
    "        message = \"中度肥胖\"\n",
    "    else:\n",
    "        message = \"胖爆了\"\n",
    "    \n",
    "    \n",
    "    return message\n",
    "\n",
    "bmi = bmi_value(100, 174)\n",
    "\n",
    "print(f'{bmi}, {suggestion(bmi)}')"
   ]
  },
  {
   "cell_type": "code",
   "execution_count": 5,
   "metadata": {},
   "outputs": [
    {
     "name": "stdout",
     "output_type": "stream",
     "text": [
      "174 您好:\n",
      "您的bmi數值是2.60\n",
      "給您的建議:體重過輕\n"
     ]
    }
   ],
   "source": [
    "def a():\n",
    "    name = input(\"請輸入姓名: \")\n",
    "    height = eval(input(\"請輸入身高(公分): \"))\n",
    "    weight = eval(input(\"請輸入體重(公斤): \"))\n",
    "    bmi = bmi_value(weight, height)\n",
    "    info = suggestion(bmi)\n",
    "    print(f\"{name} 您好:\\n您的bmi數值是{bmi:.2f}\\n給您的建議:{info}\")\n",
    "\n",
    "a()"
   ]
  },
  {
   "cell_type": "code",
   "execution_count": 9,
   "metadata": {},
   "outputs": [
    {
     "name": "stdout",
     "output_type": "stream",
     "text": [
      "174 您好:\n",
      "您的bmi數值是452.65\n",
      "給您的建議:胖爆了\n",
      "111 您好:\n",
      "您的bmi數值是20.48\n",
      "給您的建議:正常範圍\n",
      "111 您好:\n",
      "您的bmi數值是20.48\n",
      "給您的建議:正常範圍\n",
      "程式結束\n"
     ]
    }
   ],
   "source": [
    "while(True):\n",
    "    a()\n",
    "    b = input(\"輸入\\\"q\\\"離開, 輸入其他則繼續: \")\n",
    "    if(b.lower() == \"q\"):\n",
    "        break\n",
    "print(\"程式結束\")"
   ]
  }
 ],
 "metadata": {
  "kernelspec": {
   "display_name": "Python 3",
   "language": "python",
   "name": "python3"
  },
  "language_info": {
   "codemirror_mode": {
    "name": "ipython",
    "version": 3
   },
   "file_extension": ".py",
   "mimetype": "text/x-python",
   "name": "python",
   "nbconvert_exporter": "python",
   "pygments_lexer": "ipython3",
   "version": "3.8.6"
  },
  "orig_nbformat": 4,
  "vscode": {
   "interpreter": {
    "hash": "3bb6f0c94772615956c721f3f802df0e415a144b4620243ba7cda6c37443a8de"
   }
  }
 },
 "nbformat": 4,
 "nbformat_minor": 2
}
