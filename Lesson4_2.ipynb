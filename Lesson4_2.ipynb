{
 "cells": [
  {
   "cell_type": "code",
   "execution_count": 1,
   "metadata": {},
   "outputs": [
    {
     "data": {
      "text/plain": [
       "True"
      ]
     },
     "execution_count": 1,
     "metadata": {},
     "output_type": "execute_result"
    }
   ],
   "source": [
    "5 == 5"
   ]
  },
  {
   "cell_type": "code",
   "execution_count": 2,
   "metadata": {},
   "outputs": [
    {
     "data": {
      "text/plain": [
       "False"
      ]
     },
     "execution_count": 2,
     "metadata": {},
     "output_type": "execute_result"
    }
   ],
   "source": [
    "5 != 5"
   ]
  },
  {
   "cell_type": "code",
   "execution_count": 3,
   "metadata": {},
   "outputs": [
    {
     "data": {
      "text/plain": [
       "False"
      ]
     },
     "execution_count": 3,
     "metadata": {},
     "output_type": "execute_result"
    }
   ],
   "source": [
    "3 > 3"
   ]
  },
  {
   "cell_type": "code",
   "execution_count": 4,
   "metadata": {},
   "outputs": [
    {
     "data": {
      "text/plain": [
       "True"
      ]
     },
     "execution_count": 4,
     "metadata": {},
     "output_type": "execute_result"
    }
   ],
   "source": [
    "3 >= 3"
   ]
  },
  {
   "cell_type": "code",
   "execution_count": 15,
   "metadata": {},
   "outputs": [
    {
     "name": "stdout",
     "output_type": "stream",
     "text": [
      "學生分數是210\n"
     ]
    }
   ],
   "source": [
    "#學生符合加分條件就加5%分, 如果超過300分, 就以300為主。\n",
    "scores = int(input(\"請輸入學生分數: \"))\n",
    "add = int(input(\"學生符合加分條件嗎? yes請輸入1; no請輸入0: \"))\n",
    "\n",
    "if(add == 1):\n",
    "    scores *= 1.05\n",
    "    if(scores > 300):\n",
    "        scores = 300\n",
    "print(f\"學生分數是{round(scores)}\")"
   ]
  },
  {
   "cell_type": "code",
   "execution_count": 40,
   "metadata": {},
   "outputs": [
    {
     "name": "stdout",
     "output_type": "stream",
     "text": [
      "不及格\n",
      "差\n"
     ]
    }
   ],
   "source": [
    "#請使用者輸入成績, 若成績大於等於60分, 則顯示及格; 否則顯示不及格。\n",
    "#>=80, 等級為優\n",
    "#60~79, 等級為甲\n",
    "#50~59, 等級為差\n",
    "#0~49, 等級為很差\n",
    "\n",
    "scores = int(input(\"請輸入成績: \"))\n",
    "\n",
    "if(scores >= 60):\n",
    "    print(\"及格\")\n",
    "else:\n",
    "    print(\"不及格\")\n",
    "if(scores >= 80):\n",
    "    print(\"優\")\n",
    "if(scores < 80):\n",
    "    if(scores >= 60):\n",
    "        print(\"甲\")\n",
    "if(scores < 60):\n",
    "    if(scores >= 50):\n",
    "        print(\"差\")\n",
    "if(scores < 50):\n",
    "    print(\"很差\")\n"
   ]
  },
  {
   "cell_type": "code",
   "execution_count": 66,
   "metadata": {},
   "outputs": [
    {
     "name": "stdout",
     "output_type": "stream",
     "text": [
      "不及格\n",
      "很差\n"
     ]
    }
   ],
   "source": [
    "#請使用者輸入成績, 若成績大於等於60分, 則顯示及格; 否則顯示不及格。\n",
    "#>=80, 等級為優\n",
    "#60~79, 等級為甲\n",
    "#50~59, 等級為差\n",
    "#0~49, 等級為很差\n",
    "\n",
    "scores = int(input(\"請輸入成績: \"))\n",
    "\n",
    "if(scores >= 60):\n",
    "    print(\"及格\")\n",
    "    if(scores >= 80):\n",
    "         print(\"優\")\n",
    "    else:\n",
    "        print(\"甲\")\n",
    "else:\n",
    "    print(\"不及格\")\n",
    "    if(scores >= 50):\n",
    "        print(\"差\")\n",
    "    else:\n",
    "        print(\"很差\")"
   ]
  },
  {
   "attachments": {},
   "cell_type": "markdown",
   "metadata": {},
   "source": [
    "HomeWork\n",
    "讓使用者輸入成績, 若成績在90分以上就顯示「優等」, 80-89分顯示「甲等」，70-79分顯示「乙等」，60-69分顯示「丙等」，60分以下顯示「丁等」。\n",
    "顯示:\n",
    "請輸入成績(0-100):89\n",
    "甲等"
   ]
  },
  {
   "cell_type": "code",
   "execution_count": 15,
   "metadata": {},
   "outputs": [
    {
     "name": "stdout",
     "output_type": "stream",
     "text": [
      "丁等\n"
     ]
    }
   ],
   "source": [
    "scores = int(input(\"請輸入成績(0-100): \"))\n",
    "\n",
    "if(scores >= 60):\n",
    "    if(scores >= 90):\n",
    "        print(\"優等\")\n",
    "    if(scores < 90):\n",
    "        if(scores >= 80):\n",
    "            print(\"甲等\")\n",
    "    if(scores <80):\n",
    "        if(scores >= 70):\n",
    "            print(\"乙等\")\n",
    "        else:\n",
    "            print(\"丙等\")\n",
    "else:\n",
    "     print(\"丁等\")"
   ]
  }
 ],
 "metadata": {
  "kernelspec": {
   "display_name": "Python 3",
   "language": "python",
   "name": "python3"
  },
  "language_info": {
   "codemirror_mode": {
    "name": "ipython",
    "version": 3
   },
   "file_extension": ".py",
   "mimetype": "text/x-python",
   "name": "python",
   "nbconvert_exporter": "python",
   "pygments_lexer": "ipython3",
   "version": "3.8.6"
  },
  "orig_nbformat": 4,
  "vscode": {
   "interpreter": {
    "hash": "3bb6f0c94772615956c721f3f802df0e415a144b4620243ba7cda6c37443a8de"
   }
  }
 },
 "nbformat": 4,
 "nbformat_minor": 2
}
