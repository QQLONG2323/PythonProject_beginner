{
 "cells": [
  {
   "cell_type": "code",
   "execution_count": 16,
   "metadata": {},
   "outputs": [
    {
     "name": "stdout",
     "output_type": "stream",
     "text": [
      "n = 10, m = 20\n"
     ]
    }
   ],
   "source": [
    "#使用+運算子\n",
    "\n",
    "n = 10\n",
    "m = 20\n",
    "\n",
    "\"n = \" + str(n) + \", m = \" + str(m)\n",
    "print(\"n = \" + str(n) + \", m = \" + str(m))"
   ]
  },
  {
   "cell_type": "code",
   "execution_count": 22,
   "metadata": {},
   "outputs": [
    {
     "name": "stdout",
     "output_type": "stream",
     "text": [
      "n = 10, m = 20\n"
     ]
    }
   ],
   "source": [
    "#使用字串插補(比上面 使用+運算子 還更好)\n",
    "\n",
    "n = 10\n",
    "m = 20\n",
    "\n",
    "print(f\"n = {n}, m = {m}\")"
   ]
  },
  {
   "cell_type": "code",
   "execution_count": 34,
   "metadata": {},
   "outputs": [
    {
     "name": "stdout",
     "output_type": "stream",
     "text": [
      "您好! 中, 歡迎光臨!\n"
     ]
    }
   ],
   "source": [
    "name = input(\"請輸入您的姓名: \")\n",
    "print(f\"您好! {name}, 歡迎光臨!\")"
   ]
  }
 ],
 "metadata": {
  "kernelspec": {
   "display_name": "Python 3",
   "language": "python",
   "name": "python3"
  },
  "language_info": {
   "codemirror_mode": {
    "name": "ipython",
    "version": 3
   },
   "file_extension": ".py",
   "mimetype": "text/x-python",
   "name": "python",
   "nbconvert_exporter": "python",
   "pygments_lexer": "ipython3",
   "version": "3.8.6"
  },
  "orig_nbformat": 4,
  "vscode": {
   "interpreter": {
    "hash": "3bb6f0c94772615956c721f3f802df0e415a144b4620243ba7cda6c37443a8de"
   }
  }
 },
 "nbformat": 4,
 "nbformat_minor": 2
}
