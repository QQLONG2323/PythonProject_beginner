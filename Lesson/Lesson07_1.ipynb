{
 "cells": [
  {
   "cell_type": "code",
   "execution_count": 3,
   "metadata": {},
   "outputs": [
    {
     "name": "stdout",
     "output_type": "stream",
     "text": [
      "恭喜! 已經存夠了, 存了1個月, 總存款為50000元\n"
     ]
    }
   ],
   "source": [
    "#小明想要存錢買一輛機車,機車每輛30000元，他將每月存的錢輸入，當存款足夠買機車時，就顯示提示訊息告知。\n",
    "\n",
    "money = 0\n",
    "months = 0\n",
    "\n",
    "while(money < 30000):\n",
    "    months += 1\n",
    "    save = int(input(\"輸入第{0}個月的存款: \".format(months)))\n",
    "    money += save\n",
    "    \n",
    "print(\"恭喜! 已經存夠了, 存了%d個月, 總存款為%d元\" % (months, money))"
   ]
  },
  {
   "cell_type": "code",
   "execution_count": 6,
   "metadata": {},
   "outputs": [
    {
     "name": "stdout",
     "output_type": "stream",
     "text": [
      "學生總人數為: 10, 學生總分為: 433\n",
      "學生平均為: 43.3\n"
     ]
    }
   ],
   "source": [
    "#小美是一位教師，請你以while迴圈方式為小美設計一個輸入成績的程式，如果輸入負數表示成績輸入結束，在輸入成績結束後顯示班上總成績及平均成績。\n",
    "\n",
    "sum = 0\n",
    "num = 0\n",
    "\n",
    "while(True):\n",
    "    score = int(input(f\"輸入第{num + 1}位學生成績: \"))\n",
    "    if(score < 0):\n",
    "        break\n",
    "    num += 1\n",
    "    sum += score\n",
    "\n",
    "print(f\"學生總人數為: {num}, 學生總分為: {sum}\")\n",
    "print(f\"學生平均為: {sum / num}\")\n"
   ]
  },
  {
   "cell_type": "code",
   "execution_count": 9,
   "metadata": {},
   "outputs": [
    {
     "name": "stdout",
     "output_type": "stream",
     "text": [
      "1\n",
      "9\n",
      "25\n",
      "49\n",
      "81\n",
      "程式結束\n"
     ]
    }
   ],
   "source": [
    "while(True):\n",
    "    input_value = input(\"請輸入整數, 輸入「q」離開: \")\n",
    "    if(input_value.lower() == \"q\"):\n",
    "        break\n",
    "    elif(int(input_value) % 2 == 0):\n",
    "        continue\n",
    "    else:\n",
    "        print(f\"{int(input_value) ** 2}\")\n",
    "\n",
    "print(\"程式結束\")"
   ]
  },
  {
   "attachments": {},
   "cell_type": "markdown",
   "metadata": {},
   "source": [
    "HomeWork\n",
    "請設計一個程式，讓使用者輸入數值，只有加總偶數值，不加總正奇數值，如果輸入負數，結束程式。\n",
    "\n",
    "顯示:========================================\n",
    "請輸入第1個數值:456\n",
    "請輸入第2個數值:455\n",
    "請輸入第3個數值:123\n",
    "請輸入第4個數值:-1\n",
    "所有輸入的正偶數的加總是:xxxxxxx\n",
    "============================================="
   ]
  },
  {
   "cell_type": "code",
   "execution_count": 2,
   "metadata": {},
   "outputs": [
    {
     "data": {
      "text/plain": [
       "2"
      ]
     },
     "execution_count": 2,
     "metadata": {},
     "output_type": "execute_result"
    }
   ],
   "source": [
    "import random\n",
    "\n",
    "random.randint(1,10)"
   ]
  },
  {
   "cell_type": "code",
   "execution_count": 22,
   "metadata": {},
   "outputs": [
    {
     "name": "stdout",
     "output_type": "stream",
     "text": [
      "10 6 1 3 4 10 3 6 3 6 4 7 1 6 4 8 3 4 6 9 "
     ]
    }
   ],
   "source": [
    "import random\n",
    "\n",
    "for i in range(20):\n",
    "    n = random.randint(1, 10)\n",
    "    print(n, end=' ')"
   ]
  },
  {
   "attachments": {},
   "cell_type": "markdown",
   "metadata": {},
   "source": [
    "#============================================================================\n",
    "# Name        : guess.py\n",
    "#猜數字遊戲\n",
    "\n",
    "===============猜數字遊戲=================:\n",
    "\n",
    "猜數字範圍1~100:50\n",
    "再小一點\n",
    "您猜了 1 次\n",
    "\n",
    "猜數字範圍1~50:25\n",
    "再大一點\n",
    "您猜了 2 次\n",
    "\n",
    "猜數字範圍25~50:34\n",
    "再大一點\n",
    "您猜了 3 次\n",
    "\n",
    "猜數字範圍34~50:46\n",
    "再小一點\n",
    "您猜了 4 次\n",
    "\n",
    "猜數字範圍34~46:40\n",
    "賓果!猜對了, 答案是: 40\n",
    "您猜了 5 次\n",
    "#===================================="
   ]
  },
  {
   "cell_type": "code",
   "execution_count": 24,
   "metadata": {},
   "outputs": [
    {
     "name": "stdout",
     "output_type": "stream",
     "text": [
      "====================猜數字遊戲====================\n",
      "\n",
      "再小一點\n",
      "您已經猜了1次\n",
      "超出範圍了!\n",
      "再小一點\n",
      "您已經猜了3次\n",
      "超出範圍了!\n",
      "再小一點\n",
      "您已經猜了5次\n",
      "再大一點\n",
      "您已經猜了6次\n",
      "再大一點\n",
      "您已經猜了7次\n",
      "再大一點\n",
      "您已經猜了8次\n",
      "再大一點\n",
      "您已經猜了9次\n",
      "再大一點\n",
      "您已經猜了10次\n",
      "賓果!猜對了, 答案是43\n",
      "您猜了11次\n",
      "Game Over!\n"
     ]
    }
   ],
   "source": [
    "import random\n",
    "print(\"====================猜數字遊戲====================\\n\")\n",
    "min = 1\n",
    "max = 100\n",
    "random_num = random.randint(min, max)\n",
    "used_num = 0\n",
    "\n",
    "while(True):\n",
    "    keyin_value = int(input(f\"猜數字範圍{min}~{max}: \"))\n",
    "    used_num += 1\n",
    "    if(min <= keyin_value <= max):\n",
    "        if(keyin_value == random_num):\n",
    "            print(f\"賓果!猜對了, 答案是{keyin_value}\\n您猜了{used_num}次\\nGame Over!\")\n",
    "            break\n",
    "        elif(keyin_value > random_num):\n",
    "            print(f\"再小一點\\n您已經猜了{used_num}次\")\n",
    "            max = keyin_value - 1\n",
    "        else:\n",
    "            print(f\"再大一點\\n您已經猜了{used_num}次\")\n",
    "            min = keyin_value + 1\n",
    "    else:\n",
    "        print(\"超出範圍了!\")\n",
    "        continue"
   ]
  },
  {
   "cell_type": "code",
   "execution_count": 2,
   "metadata": {},
   "outputs": [
    {
     "name": "stdout",
     "output_type": "stream",
     "text": [
      "====================猜數字遊戲====================\n",
      "\n",
      "再小一點\n",
      "您已經猜了1次\n",
      "再大一點\n",
      "您已經猜了2次\n",
      "再大一點\n",
      "您已經猜了3次\n",
      "再小一點\n",
      "您已經猜了4次\n",
      "再小一點\n",
      "您已經猜了5次\n",
      "再大一點\n",
      "您已經猜了6次\n",
      "再大一點\n",
      "您已經猜了7次\n",
      "再大一點\n",
      "您已經猜了8次\n",
      "====================猜對了====================\n",
      "賓果!猜對了, 答案是39\n",
      "您猜了9次\n",
      "Game Over!\n"
     ]
    }
   ],
   "source": [
    "import random\n",
    "print(\"====================猜數字遊戲====================\\n\")\n",
    "min = 1\n",
    "max = 100\n",
    "random_num = random.randint(min, max)\n",
    "used_num = 0\n",
    "\n",
    "while(True):\n",
    "    \n",
    "    keyin_value = input(f\"猜數字範圍{min}~{max},\\n或按\\\"q\\\"立即結束;\\n按其它按鈕繼續遊戲: \")\n",
    "    \n",
    "    used_num += 1\n",
    "    \n",
    "    if keyin_value.lower() == 'q':\n",
    "        print('遊戲立即結束')\n",
    "        break    \n",
    "    \n",
    "    elif(keyin_value.isdigit() and min <= int(keyin_value) <= max):        \n",
    "        if(int(keyin_value) == random_num):\n",
    "            print(\"====================猜對了====================\")\n",
    "            print(f\"賓果!猜對了, 答案是{int(keyin_value)}\\n您猜了{used_num}次\\nGame Over!\")\n",
    "            break\n",
    "        elif(int(keyin_value) > random_num):\n",
    "            print(f\"再小一點\\n您已經猜了{used_num}次\")\n",
    "            max = int(keyin_value) - 1\n",
    "        else:\n",
    "            print(f\"再大一點\\n您已經猜了{used_num}次\")\n",
    "            min = int(keyin_value) + 1\n",
    "    \n",
    "    else:\n",
    "        print(\"超出範圍了!\")\n",
    "        continue"
   ]
  }
 ],
 "metadata": {
  "kernelspec": {
   "display_name": "Python 3",
   "language": "python",
   "name": "python3"
  },
  "language_info": {
   "codemirror_mode": {
    "name": "ipython",
    "version": 3
   },
   "file_extension": ".py",
   "mimetype": "text/x-python",
   "name": "python",
   "nbconvert_exporter": "python",
   "pygments_lexer": "ipython3",
   "version": "3.8.6"
  },
  "orig_nbformat": 4,
  "vscode": {
   "interpreter": {
    "hash": "3bb6f0c94772615956c721f3f802df0e415a144b4620243ba7cda6c37443a8de"
   }
  }
 },
 "nbformat": 4,
 "nbformat_minor": 2
}
