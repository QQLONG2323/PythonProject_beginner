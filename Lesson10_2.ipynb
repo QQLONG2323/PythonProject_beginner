{
 "cells": [
  {
   "cell_type": "code",
   "execution_count": 1,
   "metadata": {},
   "outputs": [
    {
     "data": {
      "text/plain": [
       "{2, 4, 6, 8, 10}"
      ]
     },
     "execution_count": 1,
     "metadata": {},
     "output_type": "execute_result"
    }
   ],
   "source": [
    "even_numbers = {2, 4, 6, 8, 10, 2, 4, 6, 8, 10}\n",
    "even_numbers"
   ]
  },
  {
   "cell_type": "code",
   "execution_count": 2,
   "metadata": {},
   "outputs": [
    {
     "name": "stdout",
     "output_type": "stream",
     "text": [
      "2\n",
      "4\n",
      "6\n",
      "8\n",
      "10\n"
     ]
    }
   ],
   "source": [
    "for item in even_numbers:\n",
    "    print(item)"
   ]
  },
  {
   "cell_type": "code",
   "execution_count": 3,
   "metadata": {},
   "outputs": [
    {
     "data": {
      "text/plain": [
       "[2, 4, 6, 8, 10]"
      ]
     },
     "execution_count": 3,
     "metadata": {},
     "output_type": "execute_result"
    }
   ],
   "source": [
    "list(even_numbers)"
   ]
  },
  {
   "cell_type": "code",
   "execution_count": 4,
   "metadata": {},
   "outputs": [
    {
     "data": {
      "text/plain": [
       "{2, 4, 6, 8, 10, 12}"
      ]
     },
     "execution_count": 4,
     "metadata": {},
     "output_type": "execute_result"
    }
   ],
   "source": [
    "even_numbers.add(12)\n",
    "even_numbers"
   ]
  },
  {
   "cell_type": "code",
   "execution_count": 7,
   "metadata": {},
   "outputs": [
    {
     "name": "stdout",
     "output_type": "stream",
     "text": [
      "本期大樂透電腦選號號碼如下: {12, 49, 20, 23, 27, 29, 31}\n",
      "12  49  20  23  27  29  特別號: 31\n"
     ]
    }
   ],
   "source": [
    "import random\n",
    "nums = set()\n",
    "while(len(nums) <= 6):\n",
    "    values = random.randint(1, 49)\n",
    "    nums.add(values)\n",
    "print(f\"本期大樂透電腦選號號碼如下: {nums}\")\n",
    "\n",
    "numslist = list(nums)\n",
    "specialnum = numslist.pop()\n",
    "for item in numslist:\n",
    "    print(item, end=\"  \")\n",
    "\n",
    "print(f\"特別號: {specialnum}\")\n"
   ]
  }
 ],
 "metadata": {
  "kernelspec": {
   "display_name": "Python 3",
   "language": "python",
   "name": "python3"
  },
  "language_info": {
   "codemirror_mode": {
    "name": "ipython",
    "version": 3
   },
   "file_extension": ".py",
   "mimetype": "text/x-python",
   "name": "python",
   "nbconvert_exporter": "python",
   "pygments_lexer": "ipython3",
   "version": "3.8.6"
  },
  "orig_nbformat": 4,
  "vscode": {
   "interpreter": {
    "hash": "3bb6f0c94772615956c721f3f802df0e415a144b4620243ba7cda6c37443a8de"
   }
  }
 },
 "nbformat": 4,
 "nbformat_minor": 2
}
