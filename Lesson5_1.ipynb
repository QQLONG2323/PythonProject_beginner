{
 "cells": [
  {
   "cell_type": "code",
   "execution_count": 1,
   "metadata": {},
   "outputs": [
    {
     "name": "stdout",
     "output_type": "stream",
     "text": [
      "丁等\n"
     ]
    }
   ],
   "source": [
    "scores = int(input(\"請輸入成績(0-100): \"))\n",
    "\n",
    "if(scores >= 90):\n",
    "    print(\"優等\")\n",
    "elif(scores >= 80):\n",
    "    print(\"甲等\")\n",
    "elif(scores >= 70):\n",
    "    print(\"乙等\")\n",
    "elif(scores >= 60):\n",
    "    print(\"丙等\")\n",
    "else:\n",
    "    print(\"丁等\")"
   ]
  },
  {
   "cell_type": "code",
   "execution_count": 3,
   "metadata": {},
   "outputs": [
    {
     "name": "stdout",
     "output_type": "stream",
     "text": [
      "實付金額: 9500.0 元\n"
     ]
    }
   ],
   "source": [
    "m = eval(input(\"輸入購買金額: \"))\n",
    "\n",
    "if( m >= 100000):\n",
    "    print(f\"實付金額: {m * 0.8 :.1f} 元\")\n",
    "elif( m >= 50000):\n",
    "    print(f\"實付金額: {m * 0.85 :.1f} 元\")\n",
    "elif( m >= 30000):\n",
    "    print(f\"實付金額: {m * 0.9 :.1f} 元\")\n",
    "elif( m >= 10000):\n",
    "    print(f\"實付金額: {m * 0.95 :.1f} 元\")\n",
    "else:\n",
    "    print(f\"實付金額: {m :.1f} 元\")"
   ]
  },
  {
   "cell_type": "code",
   "execution_count": 62,
   "metadata": {},
   "outputs": [
    {
     "name": "stdout",
     "output_type": "stream",
     "text": [
      "實付金額: 900.0 元\n"
     ]
    }
   ],
   "source": [
    "m = eval(input(\"輸入購買金額: \"))\n",
    "d = m // 1000 * 100\n",
    "if( m >= 100000):\n",
    "    print(f\"實付金額: {(m * 0.8) - d :.1f} 元\")\n",
    "elif( m >= 50000):\n",
    "    print(f\"實付金額: {(m * 0.85) - d :.1f} 元\")\n",
    "elif( m >= 30000):\n",
    "    print(f\"實付金額: {(m * 0.9) - d :.1f} 元\")\n",
    "elif( m >= 10000):\n",
    "    print(f\"實付金額: {(m * 0.95) - d :.1f} 元\")\n",
    "else:\n",
    "    print(f\"實付金額: {(m) - d :.1f} 元\")"
   ]
  },
  {
   "cell_type": "code",
   "execution_count": 86,
   "metadata": {},
   "outputs": [
    {
     "name": "stdout",
     "output_type": "stream",
     "text": [
      "獎金 0 元\n"
     ]
    }
   ],
   "source": [
    "c = int(input(\"請輸入國文分數: \"))\n",
    "m = int(input(\"請輸入數學分數: \"))\n",
    "\n",
    "if(c == 100 and m == 100):\n",
    "    b = 1000 \n",
    "elif(c == 100 or m == 100):\n",
    "    b = 500 \n",
    "else:\n",
    "    b = 0 \n",
    "\n",
    "print(f\"獎金 {b} 元\")"
   ]
  },
  {
   "cell_type": "code",
   "execution_count": 121,
   "metadata": {},
   "outputs": [
    {
     "name": "stdout",
     "output_type": "stream",
     "text": [
      "高血壓二期\n"
     ]
    }
   ],
   "source": [
    "a = eval(input(\"請輸入收縮壓(mmHg): \"))\n",
    "b = eval(input(\"請輸入舒張壓(mmHg): \"))\n",
    "\n",
    "if(a < 120 and b < 80):\n",
    "    print(\"正常\")\n",
    "elif(120 <= a <= 129 and b < 80):\n",
    "    print(\"血壓升高\")\n",
    "elif(a >= 130 and b < 80):\n",
    "    print(\"單純收縮期高血壓\")\n",
    "elif(130 <= a <= 139 or 80 <= b <= 89):\n",
    "    print(\"高血壓一期\")\n",
    "elif(a >= 140 or b >= 90):\n",
    "    print(\"高血壓二期\")"
   ]
  },
  {
   "cell_type": "code",
   "execution_count": 139,
   "metadata": {},
   "outputs": [
    {
     "ename": "ValueError",
     "evalue": "invalid literal for int() with base 10: ''",
     "output_type": "error",
     "traceback": [
      "\u001b[1;31m---------------------------------------------------------------------------\u001b[0m",
      "\u001b[1;31mValueError\u001b[0m                                Traceback (most recent call last)",
      "Cell \u001b[1;32mIn[139], line 1\u001b[0m\n\u001b[1;32m----> 1\u001b[0m age \u001b[39m=\u001b[39m \u001b[39mint\u001b[39;49m(\u001b[39minput\u001b[39;49m(\u001b[39m\"\u001b[39;49m\u001b[39m輸入年齡: \u001b[39;49m\u001b[39m\"\u001b[39;49m))\n\u001b[0;32m      3\u001b[0m \u001b[39mif\u001b[39;00m(age \u001b[39m>\u001b[39m\u001b[39m=\u001b[39m \u001b[39m18\u001b[39m):\n\u001b[0;32m      4\u001b[0m     \u001b[39mprint\u001b[39m(\u001b[39m\"\u001b[39m\u001b[39m限制級\u001b[39m\u001b[39m\"\u001b[39m)\n",
      "\u001b[1;31mValueError\u001b[0m: invalid literal for int() with base 10: ''"
     ]
    }
   ],
   "source": [
    "age = int(input(\"輸入年齡: \"))\n",
    "\n",
    "if(age >= 18):\n",
    "    print(\"限制級\")\n",
    "elif(age >= 13):\n",
    "    print(\"輔導級\")\n",
    "else:\n",
    "    print(\"普遍級\")"
   ]
  },
  {
   "cell_type": "code",
   "execution_count": null,
   "metadata": {},
   "outputs": [],
   "source": [
    "h = eval(input(\"請輸入身高(公分): \"))\n",
    "w = eval(input(\"請輸入體重(公斤): \"))\n",
    "\n",
    "if( (w / h) ** 2 )"
   ]
  }
 ],
 "metadata": {
  "kernelspec": {
   "display_name": "Python 3",
   "language": "python",
   "name": "python3"
  },
  "language_info": {
   "codemirror_mode": {
    "name": "ipython",
    "version": 3
   },
   "file_extension": ".py",
   "mimetype": "text/x-python",
   "name": "python",
   "nbconvert_exporter": "python",
   "pygments_lexer": "ipython3",
   "version": "3.8.6"
  },
  "orig_nbformat": 4,
  "vscode": {
   "interpreter": {
    "hash": "3bb6f0c94772615956c721f3f802df0e415a144b4620243ba7cda6c37443a8de"
   }
  }
 },
 "nbformat": 4,
 "nbformat_minor": 2
}
