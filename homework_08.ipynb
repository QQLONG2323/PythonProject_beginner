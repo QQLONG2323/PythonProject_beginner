{
 "cells": [
  {
   "cell_type": "code",
   "execution_count": 11,
   "metadata": {},
   "outputs": [
    {
     "name": "stdout",
     "output_type": "stream",
     "text": [
      "{'國文': 57, '英文': 82, '數學': 87, '自然': 70, '社會': 59}\n"
     ]
    }
   ],
   "source": [
    "import random\n",
    "\n",
    "names = [\"賴依凡\", \"張雯嬌\", \"張濬昇\", \"謝明學\", \"劉俊孝\", \"彭千祐\", \"賴奕旭\", \"劉冠亨\", \"黃基展\", \"楊凱丞\", \"張文嘉\", \"鄭丞芸\", \"瞿品皓\", \"邱秀慧\", \"陳瑞涓\", \"陳彥廷\", \"鄭興耀\", \"溫國焜\", \"高家成\", \"鄒騰沅\", \"徐瑋良\", \"余友中\", \"李__唯\", \"林可中\"]\n",
    "\n",
    "call = {}\n",
    "\n",
    "for name in names:\n",
    "    scores = {s:random.randint(50, 100) for s in [\"國文\", \"英文\", \"數學\", \"自然\", \"社會\"]}\n",
    "    call[name] = scores\n",
    "\n",
    "print(call[\"余友中\"])"
   ]
  }
 ],
 "metadata": {
  "kernelspec": {
   "display_name": "Python 3",
   "language": "python",
   "name": "python3"
  },
  "language_info": {
   "codemirror_mode": {
    "name": "ipython",
    "version": 3
   },
   "file_extension": ".py",
   "mimetype": "text/x-python",
   "name": "python",
   "nbconvert_exporter": "python",
   "pygments_lexer": "ipython3",
   "version": "3.8.6"
  },
  "orig_nbformat": 4
 },
 "nbformat": 4,
 "nbformat_minor": 2
}
